{
  "nbformat": 4,
  "nbformat_minor": 0,
  "metadata": {
    "colab": {
      "name": "fashion_mnist_SLP.ipynb",
      "version": "0.3.2",
      "provenance": [],
      "collapsed_sections": [],
      "toc_visible": true,
      "include_colab_link": true
    },
    "language_info": {
      "codemirror_mode": {
        "name": "ipython",
        "version": 3
      },
      "file_extension": ".py",
      "mimetype": "text/x-python",
      "name": "python",
      "nbconvert_exporter": "python",
      "pygments_lexer": "ipython3",
      "version": "3.5.2"
    },
    "kernelspec": {
      "display_name": "Python 3",
      "language": "python",
      "name": "python3"
    }
  },
  "cells": [
    {
      "cell_type": "markdown",
      "metadata": {
        "id": "view-in-github",
        "colab_type": "text"
      },
      "source": [
        "<a href=\"https://colab.research.google.com/github/ghtaro/Fashion_MNIST/blob/master/fashion_mnist_SLP.ipynb\" target=\"_parent\"><img src=\"https://colab.research.google.com/assets/colab-badge.svg\" alt=\"Open In Colab\"/></a>"
      ]
    },
    {
      "metadata": {
        "id": "POjVrw99zcZq",
        "colab_type": "text"
      },
      "cell_type": "markdown",
      "source": [
        "# 10-Class Categolisation of Fashion MNIST dataset"
      ]
    },
    {
      "metadata": {
        "id": "K5iSradKyOXG",
        "colab_type": "code",
        "colab": {}
      },
      "cell_type": "code",
      "source": [
        "import os\n",
        "import sys\n",
        "import numpy as np\n",
        "import pandas as pd\n",
        "from sklearn.metrics import accuracy_score\n",
        "from sklearn.model_selection import train_test_split\n",
        "from sklearn.utils import shuffle\n",
        "\n",
        "sys.modules['tensorflow'] = None"
      ],
      "execution_count": 0,
      "outputs": []
    },
    {
      "metadata": {
        "id": "WjS-9rbH2sVN",
        "colab_type": "text"
      },
      "cell_type": "markdown",
      "source": [
        "## Mount Google Drive"
      ]
    },
    {
      "metadata": {
        "id": "ASJp6y5H1UZ1",
        "colab_type": "code",
        "colab": {}
      },
      "cell_type": "code",
      "source": [
        "# mount google drive\n",
        "gd_mount_path = '/content/drive'\n",
        "from google.colab import drive\n",
        "drive.mount(gd_mount_path)"
      ],
      "execution_count": 0,
      "outputs": []
    },
    {
      "metadata": {
        "id": "qtzq4dth20P1",
        "colab_type": "text"
      },
      "cell_type": "markdown",
      "source": [
        "## Setup a Path to the Dataset"
      ]
    },
    {
      "metadata": {
        "id": "Z93Zi6w603E-",
        "colab_type": "code",
        "colab": {}
      },
      "cell_type": "code",
      "source": [
        "gd_root_path = '/content/drive/My Drive/Colab Notebooks/Fashion_MNIST/'\n",
        "gd_material_path = os.path.join(gd_root_path, 'material')\n",
        "gd_data_path = os.path.join(gd_root_path, 'data')\n",
        "gd_output_path = os.path.join(gd_root_path, 'output')\n",
        "sys.path.append(gd_material_path)\n",
        "\n",
        "gd_utils_path = '/content/drive/My Drive/Colab Notebooks/Utils'\n",
        "gd_pictures_path = '/content/drive/My Drive/Colab Notebooks/Pictures'\n",
        "\n",
        "sys.path.append(gd_utils_path)\n",
        "sys.path.append(gd_pictures_path)\n",
        "\n",
        "try:\n",
        "    del sys.modules['tool']\n",
        "except Exception as e:\n",
        "    pass\n",
        "import tool\n"
      ],
      "execution_count": 0,
      "outputs": []
    },
    {
      "metadata": {
        "id": "TAME3X8329c8",
        "colab_type": "text"
      },
      "cell_type": "markdown",
      "source": [
        "## Utility functions"
      ]
    },
    {
      "metadata": {
        "id": "kSXajL_vyOXL",
        "colab_type": "code",
        "colab": {}
      },
      "cell_type": "code",
      "source": [
        "# weights and eps\n",
        "W = np.random.uniform(low=-0.08, high=0.08, size=(784, 10)).astype('float32')\n",
        "b = np.zeros(shape=(10,)).astype('float32')\n",
        "eps = 0.01\n",
        "\n",
        "# Training utils\n",
        "def valid(x, t):\n",
        "    y = tool.softmax(np.matmul(x, W) + b)\n",
        "    cost = (- t * tool.np_log(y)).sum(axis=1).mean()\n",
        "    return cost, y\n",
        "\n",
        "def pred(x):\n",
        "    y = tool.softmax(np.matmul(x, W) + b)\n",
        "    return y.argmax(axis=1)\n",
        "\n",
        "# Learning\n",
        "def train(x, t, doNorm=False, nBatch=1):\n",
        "    global W, b, eps\n",
        "    batch_size = int(x.shape[0] / nBatch)\n",
        "    x_remain = np.copy(x)    \n",
        "    t_remain = np.copy(t)\n",
        "    curr_size = x.shape[0]\n",
        "    prev_cost = 10000000\n",
        "    while(curr_size > 0):\n",
        "        batch_size = np.min([batch_size, curr_size])\n",
        "        x_batch = x_remain[:batch_size, :]\n",
        "        t_batch = t_remain[:batch_size, :]\n",
        "        y_batch = tool.softmax(np.matmul(x_batch, W) + b)\n",
        "        cost = (- t_batch * tool.np_log(y_batch)).sum(axis=1).mean()\n",
        "        delta = y_batch - t_batch\n",
        "        dW = np.matmul(x_batch.T, delta) / batch_size\n",
        "        db = np.matmul(np.ones(shape=(batch_size,)), delta) / batch_size\n",
        "        W -= eps * dW\n",
        "        b -= eps * db\n",
        "        curr_size -= batch_size\n",
        "        \n",
        "        if curr_size > 0:\n",
        "            x_remain = x_remain[batch_size:, :]\n",
        "            t_remain = t_remain[batch_size:, :]\n",
        "    return cost"
      ],
      "execution_count": 0,
      "outputs": []
    },
    {
      "metadata": {
        "id": "cOnGhJnX3USv",
        "colab_type": "text"
      },
      "cell_type": "markdown",
      "source": [
        "## Training the Linear-Classifier with Sigmoid Activation"
      ]
    },
    {
      "metadata": {
        "id": "VABB7H3CyOXP",
        "colab_type": "code",
        "colab": {}
      },
      "cell_type": "code",
      "source": [
        "# 学習データと検証データに分割\n",
        "x_train, y_train, x_test = tool.load_fashionmnist(gd_data_path)\n",
        "x_train, x_valid, y_train, y_valid = train_test_split(x_train, y_train, test_size=0.1)\n",
        "\n",
        "# Training\n",
        "def train_full(x_train, x_valid, y_train, y_valid, eps_in=0.001, low=-0.08, high=0.08, doStd=True, nBatch=54000, doNorm=False, \\\n",
        "               doOVO=False, lrDivisor=2, nEpoch=10):\n",
        "    # fix the random seed\n",
        "    np.random.seed(1)\n",
        "\n",
        "    # weights\n",
        "    global W, b, eps\n",
        "    W = np.random.uniform(low=low, high=high, size=(784, 10)).astype('float32')\n",
        "    b = np.zeros(shape=(10,)).astype('float32')\n",
        "    eps = eps_in\n",
        "\n",
        "    prev_cost = 10000000\n",
        "    for epoch in range(nEpoch):\n",
        "        x_train, y_train = shuffle(x_train, y_train)\n",
        "\n",
        "        if(doStd):\n",
        "            x_train = tool.standarisation(x_train)\n",
        "            x_valid = tool.standarisation(x_valid)\n",
        "\n",
        "        cost = train(x_train, y_train)\n",
        "\n",
        "        if prev_cost < cost:\n",
        "            eps /= lrDivisor\n",
        "        prev_cost = cost\n",
        "\n",
        "        cost_train, t_train_pred = valid(x_train, y_train)\n",
        "        cost_valid, t_valid_pred = valid(x_valid, y_valid)\n",
        "        acc_valid = accuracy_score(y_valid.argmax(axis=1), t_valid_pred.argmax(axis=1))\n",
        "        acc_train = accuracy_score(y_train.argmax(axis=1), t_train_pred.argmax(axis=1))\n",
        "        print('EPOCH: {}, EPS: {:.6f}, Valid Cost: {:.3f}, Valid Accuracy: {:.3f}, Train Cost: {:.3f}, Train Accuracy: {:.3f}'.format( \\\n",
        "            epoch + 1, eps, cost_valid, acc_valid, cost_train, acc_train))"
      ],
      "execution_count": 0,
      "outputs": []
    },
    {
      "metadata": {
        "id": "h1nrl8ChSzIG",
        "colab_type": "code",
        "outputId": "c45eb6ba-e7d5-4ae6-a93d-942fd5aa6585",
        "colab": {
          "base_uri": "https://localhost:8080/",
          "height": 1777
        }
      },
      "cell_type": "code",
      "source": [
        "    train_full(x_train, x_valid, y_train, y_valid, eps_in=0.5, low=-0.08, high=0.08, doStd=True, nBatch=5400, doNorm=False, doOVO=False, lrDivisor=2, nEpoch=100)"
      ],
      "execution_count": 7,
      "outputs": [
        {
          "output_type": "stream",
          "text": [
            "EPOCH: 1, EPS: 0.500000, Valid Cost: 5.537, Valid Accuracy: 0.467, Train Cost: 5.536, Train Accuracy: 0.462\n",
            "EPOCH: 2, EPS: 0.250000, Valid Cost: 8.955, Valid Accuracy: 0.381, Train Cost: 8.906, Train Accuracy: 0.380\n",
            "EPOCH: 3, EPS: 0.125000, Valid Cost: 6.390, Valid Accuracy: 0.490, Train Cost: 6.389, Train Accuracy: 0.494\n",
            "EPOCH: 4, EPS: 0.125000, Valid Cost: 2.849, Valid Accuracy: 0.533, Train Cost: 2.833, Train Accuracy: 0.537\n",
            "EPOCH: 5, EPS: 0.125000, Valid Cost: 1.786, Valid Accuracy: 0.623, Train Cost: 1.786, Train Accuracy: 0.627\n",
            "EPOCH: 6, EPS: 0.125000, Valid Cost: 1.555, Valid Accuracy: 0.719, Train Cost: 1.540, Train Accuracy: 0.718\n",
            "EPOCH: 7, EPS: 0.125000, Valid Cost: 1.080, Valid Accuracy: 0.717, Train Cost: 1.075, Train Accuracy: 0.715\n",
            "EPOCH: 8, EPS: 0.125000, Valid Cost: 1.085, Valid Accuracy: 0.713, Train Cost: 1.069, Train Accuracy: 0.707\n",
            "EPOCH: 9, EPS: 0.125000, Valid Cost: 1.303, Valid Accuracy: 0.677, Train Cost: 1.289, Train Accuracy: 0.681\n",
            "EPOCH: 10, EPS: 0.062500, Valid Cost: 1.288, Valid Accuracy: 0.708, Train Cost: 1.272, Train Accuracy: 0.706\n",
            "EPOCH: 11, EPS: 0.062500, Valid Cost: 0.892, Valid Accuracy: 0.747, Train Cost: 0.886, Train Accuracy: 0.743\n",
            "EPOCH: 12, EPS: 0.062500, Valid Cost: 0.858, Valid Accuracy: 0.754, Train Cost: 0.849, Train Accuracy: 0.752\n",
            "EPOCH: 13, EPS: 0.062500, Valid Cost: 0.834, Valid Accuracy: 0.755, Train Cost: 0.826, Train Accuracy: 0.754\n",
            "EPOCH: 14, EPS: 0.062500, Valid Cost: 0.818, Valid Accuracy: 0.758, Train Cost: 0.809, Train Accuracy: 0.758\n",
            "EPOCH: 15, EPS: 0.062500, Valid Cost: 0.803, Valid Accuracy: 0.761, Train Cost: 0.794, Train Accuracy: 0.760\n",
            "EPOCH: 16, EPS: 0.062500, Valid Cost: 0.789, Valid Accuracy: 0.763, Train Cost: 0.781, Train Accuracy: 0.764\n",
            "EPOCH: 17, EPS: 0.062500, Valid Cost: 0.777, Valid Accuracy: 0.766, Train Cost: 0.769, Train Accuracy: 0.766\n",
            "EPOCH: 18, EPS: 0.062500, Valid Cost: 0.766, Valid Accuracy: 0.769, Train Cost: 0.758, Train Accuracy: 0.769\n",
            "EPOCH: 19, EPS: 0.062500, Valid Cost: 0.755, Valid Accuracy: 0.771, Train Cost: 0.747, Train Accuracy: 0.770\n",
            "EPOCH: 20, EPS: 0.062500, Valid Cost: 0.746, Valid Accuracy: 0.771, Train Cost: 0.738, Train Accuracy: 0.773\n",
            "EPOCH: 21, EPS: 0.062500, Valid Cost: 0.737, Valid Accuracy: 0.773, Train Cost: 0.729, Train Accuracy: 0.774\n",
            "EPOCH: 22, EPS: 0.062500, Valid Cost: 0.729, Valid Accuracy: 0.774, Train Cost: 0.721, Train Accuracy: 0.777\n",
            "EPOCH: 23, EPS: 0.062500, Valid Cost: 0.721, Valid Accuracy: 0.776, Train Cost: 0.714, Train Accuracy: 0.779\n",
            "EPOCH: 24, EPS: 0.062500, Valid Cost: 0.714, Valid Accuracy: 0.778, Train Cost: 0.707, Train Accuracy: 0.780\n",
            "EPOCH: 25, EPS: 0.062500, Valid Cost: 0.707, Valid Accuracy: 0.779, Train Cost: 0.700, Train Accuracy: 0.782\n",
            "EPOCH: 26, EPS: 0.062500, Valid Cost: 0.701, Valid Accuracy: 0.781, Train Cost: 0.694, Train Accuracy: 0.783\n",
            "EPOCH: 27, EPS: 0.062500, Valid Cost: 0.695, Valid Accuracy: 0.781, Train Cost: 0.688, Train Accuracy: 0.784\n",
            "EPOCH: 28, EPS: 0.062500, Valid Cost: 0.689, Valid Accuracy: 0.783, Train Cost: 0.683, Train Accuracy: 0.785\n",
            "EPOCH: 29, EPS: 0.062500, Valid Cost: 0.684, Valid Accuracy: 0.785, Train Cost: 0.677, Train Accuracy: 0.786\n",
            "EPOCH: 30, EPS: 0.062500, Valid Cost: 0.678, Valid Accuracy: 0.785, Train Cost: 0.672, Train Accuracy: 0.787\n",
            "EPOCH: 31, EPS: 0.062500, Valid Cost: 0.673, Valid Accuracy: 0.787, Train Cost: 0.668, Train Accuracy: 0.788\n",
            "EPOCH: 32, EPS: 0.062500, Valid Cost: 0.669, Valid Accuracy: 0.788, Train Cost: 0.663, Train Accuracy: 0.789\n",
            "EPOCH: 33, EPS: 0.062500, Valid Cost: 0.664, Valid Accuracy: 0.788, Train Cost: 0.659, Train Accuracy: 0.790\n",
            "EPOCH: 34, EPS: 0.062500, Valid Cost: 0.660, Valid Accuracy: 0.789, Train Cost: 0.654, Train Accuracy: 0.791\n",
            "EPOCH: 35, EPS: 0.062500, Valid Cost: 0.656, Valid Accuracy: 0.790, Train Cost: 0.650, Train Accuracy: 0.791\n",
            "EPOCH: 36, EPS: 0.062500, Valid Cost: 0.652, Valid Accuracy: 0.792, Train Cost: 0.647, Train Accuracy: 0.792\n",
            "EPOCH: 37, EPS: 0.062500, Valid Cost: 0.648, Valid Accuracy: 0.792, Train Cost: 0.643, Train Accuracy: 0.793\n",
            "EPOCH: 38, EPS: 0.062500, Valid Cost: 0.645, Valid Accuracy: 0.793, Train Cost: 0.639, Train Accuracy: 0.794\n",
            "EPOCH: 39, EPS: 0.062500, Valid Cost: 0.641, Valid Accuracy: 0.793, Train Cost: 0.636, Train Accuracy: 0.794\n",
            "EPOCH: 40, EPS: 0.062500, Valid Cost: 0.638, Valid Accuracy: 0.794, Train Cost: 0.633, Train Accuracy: 0.795\n",
            "EPOCH: 41, EPS: 0.062500, Valid Cost: 0.634, Valid Accuracy: 0.794, Train Cost: 0.629, Train Accuracy: 0.795\n",
            "EPOCH: 42, EPS: 0.062500, Valid Cost: 0.631, Valid Accuracy: 0.794, Train Cost: 0.626, Train Accuracy: 0.796\n",
            "EPOCH: 43, EPS: 0.062500, Valid Cost: 0.628, Valid Accuracy: 0.795, Train Cost: 0.623, Train Accuracy: 0.796\n",
            "EPOCH: 44, EPS: 0.062500, Valid Cost: 0.625, Valid Accuracy: 0.795, Train Cost: 0.620, Train Accuracy: 0.797\n",
            "EPOCH: 45, EPS: 0.062500, Valid Cost: 0.622, Valid Accuracy: 0.795, Train Cost: 0.617, Train Accuracy: 0.797\n",
            "EPOCH: 46, EPS: 0.062500, Valid Cost: 0.619, Valid Accuracy: 0.796, Train Cost: 0.615, Train Accuracy: 0.798\n",
            "EPOCH: 47, EPS: 0.062500, Valid Cost: 0.617, Valid Accuracy: 0.797, Train Cost: 0.612, Train Accuracy: 0.798\n",
            "EPOCH: 48, EPS: 0.062500, Valid Cost: 0.614, Valid Accuracy: 0.797, Train Cost: 0.609, Train Accuracy: 0.799\n",
            "EPOCH: 49, EPS: 0.062500, Valid Cost: 0.612, Valid Accuracy: 0.797, Train Cost: 0.607, Train Accuracy: 0.800\n",
            "EPOCH: 50, EPS: 0.062500, Valid Cost: 0.609, Valid Accuracy: 0.798, Train Cost: 0.605, Train Accuracy: 0.800\n",
            "EPOCH: 51, EPS: 0.062500, Valid Cost: 0.607, Valid Accuracy: 0.798, Train Cost: 0.602, Train Accuracy: 0.801\n",
            "EPOCH: 52, EPS: 0.062500, Valid Cost: 0.604, Valid Accuracy: 0.798, Train Cost: 0.600, Train Accuracy: 0.801\n",
            "EPOCH: 53, EPS: 0.062500, Valid Cost: 0.602, Valid Accuracy: 0.799, Train Cost: 0.598, Train Accuracy: 0.801\n",
            "EPOCH: 54, EPS: 0.062500, Valid Cost: 0.600, Valid Accuracy: 0.800, Train Cost: 0.595, Train Accuracy: 0.802\n",
            "EPOCH: 55, EPS: 0.062500, Valid Cost: 0.598, Valid Accuracy: 0.799, Train Cost: 0.593, Train Accuracy: 0.802\n",
            "EPOCH: 56, EPS: 0.062500, Valid Cost: 0.596, Valid Accuracy: 0.799, Train Cost: 0.591, Train Accuracy: 0.802\n",
            "EPOCH: 57, EPS: 0.062500, Valid Cost: 0.593, Valid Accuracy: 0.799, Train Cost: 0.589, Train Accuracy: 0.803\n",
            "EPOCH: 58, EPS: 0.062500, Valid Cost: 0.591, Valid Accuracy: 0.800, Train Cost: 0.587, Train Accuracy: 0.803\n",
            "EPOCH: 59, EPS: 0.062500, Valid Cost: 0.589, Valid Accuracy: 0.800, Train Cost: 0.585, Train Accuracy: 0.803\n",
            "EPOCH: 60, EPS: 0.062500, Valid Cost: 0.588, Valid Accuracy: 0.801, Train Cost: 0.583, Train Accuracy: 0.804\n",
            "EPOCH: 61, EPS: 0.062500, Valid Cost: 0.586, Valid Accuracy: 0.801, Train Cost: 0.582, Train Accuracy: 0.804\n",
            "EPOCH: 62, EPS: 0.062500, Valid Cost: 0.584, Valid Accuracy: 0.801, Train Cost: 0.580, Train Accuracy: 0.805\n",
            "EPOCH: 63, EPS: 0.062500, Valid Cost: 0.582, Valid Accuracy: 0.802, Train Cost: 0.578, Train Accuracy: 0.805\n",
            "EPOCH: 64, EPS: 0.062500, Valid Cost: 0.580, Valid Accuracy: 0.801, Train Cost: 0.576, Train Accuracy: 0.806\n",
            "EPOCH: 65, EPS: 0.062500, Valid Cost: 0.579, Valid Accuracy: 0.801, Train Cost: 0.575, Train Accuracy: 0.806\n",
            "EPOCH: 66, EPS: 0.062500, Valid Cost: 0.577, Valid Accuracy: 0.802, Train Cost: 0.573, Train Accuracy: 0.806\n",
            "EPOCH: 67, EPS: 0.062500, Valid Cost: 0.576, Valid Accuracy: 0.802, Train Cost: 0.572, Train Accuracy: 0.806\n",
            "EPOCH: 68, EPS: 0.062500, Valid Cost: 0.574, Valid Accuracy: 0.802, Train Cost: 0.570, Train Accuracy: 0.807\n",
            "EPOCH: 69, EPS: 0.062500, Valid Cost: 0.572, Valid Accuracy: 0.802, Train Cost: 0.568, Train Accuracy: 0.807\n",
            "EPOCH: 70, EPS: 0.062500, Valid Cost: 0.571, Valid Accuracy: 0.803, Train Cost: 0.567, Train Accuracy: 0.807\n",
            "EPOCH: 71, EPS: 0.062500, Valid Cost: 0.569, Valid Accuracy: 0.803, Train Cost: 0.566, Train Accuracy: 0.807\n",
            "EPOCH: 72, EPS: 0.062500, Valid Cost: 0.568, Valid Accuracy: 0.803, Train Cost: 0.564, Train Accuracy: 0.808\n",
            "EPOCH: 73, EPS: 0.062500, Valid Cost: 0.567, Valid Accuracy: 0.803, Train Cost: 0.563, Train Accuracy: 0.808\n",
            "EPOCH: 74, EPS: 0.062500, Valid Cost: 0.565, Valid Accuracy: 0.803, Train Cost: 0.561, Train Accuracy: 0.808\n",
            "EPOCH: 75, EPS: 0.062500, Valid Cost: 0.564, Valid Accuracy: 0.804, Train Cost: 0.560, Train Accuracy: 0.809\n",
            "EPOCH: 76, EPS: 0.062500, Valid Cost: 0.563, Valid Accuracy: 0.805, Train Cost: 0.559, Train Accuracy: 0.809\n",
            "EPOCH: 77, EPS: 0.062500, Valid Cost: 0.561, Valid Accuracy: 0.805, Train Cost: 0.558, Train Accuracy: 0.809\n",
            "EPOCH: 78, EPS: 0.062500, Valid Cost: 0.560, Valid Accuracy: 0.805, Train Cost: 0.556, Train Accuracy: 0.810\n",
            "EPOCH: 79, EPS: 0.062500, Valid Cost: 0.559, Valid Accuracy: 0.805, Train Cost: 0.555, Train Accuracy: 0.810\n",
            "EPOCH: 80, EPS: 0.062500, Valid Cost: 0.558, Valid Accuracy: 0.805, Train Cost: 0.554, Train Accuracy: 0.810\n",
            "EPOCH: 81, EPS: 0.062500, Valid Cost: 0.557, Valid Accuracy: 0.805, Train Cost: 0.553, Train Accuracy: 0.810\n",
            "EPOCH: 82, EPS: 0.062500, Valid Cost: 0.555, Valid Accuracy: 0.806, Train Cost: 0.552, Train Accuracy: 0.811\n",
            "EPOCH: 83, EPS: 0.062500, Valid Cost: 0.554, Valid Accuracy: 0.806, Train Cost: 0.551, Train Accuracy: 0.811\n",
            "EPOCH: 84, EPS: 0.062500, Valid Cost: 0.553, Valid Accuracy: 0.806, Train Cost: 0.550, Train Accuracy: 0.811\n",
            "EPOCH: 85, EPS: 0.062500, Valid Cost: 0.552, Valid Accuracy: 0.806, Train Cost: 0.548, Train Accuracy: 0.812\n",
            "EPOCH: 86, EPS: 0.062500, Valid Cost: 0.551, Valid Accuracy: 0.806, Train Cost: 0.547, Train Accuracy: 0.812\n",
            "EPOCH: 87, EPS: 0.062500, Valid Cost: 0.550, Valid Accuracy: 0.807, Train Cost: 0.546, Train Accuracy: 0.812\n",
            "EPOCH: 88, EPS: 0.062500, Valid Cost: 0.549, Valid Accuracy: 0.807, Train Cost: 0.545, Train Accuracy: 0.813\n",
            "EPOCH: 89, EPS: 0.062500, Valid Cost: 0.548, Valid Accuracy: 0.807, Train Cost: 0.544, Train Accuracy: 0.813\n",
            "EPOCH: 90, EPS: 0.062500, Valid Cost: 0.547, Valid Accuracy: 0.807, Train Cost: 0.543, Train Accuracy: 0.814\n",
            "EPOCH: 91, EPS: 0.062500, Valid Cost: 0.546, Valid Accuracy: 0.808, Train Cost: 0.542, Train Accuracy: 0.814\n",
            "EPOCH: 92, EPS: 0.062500, Valid Cost: 0.545, Valid Accuracy: 0.808, Train Cost: 0.542, Train Accuracy: 0.814\n",
            "EPOCH: 93, EPS: 0.062500, Valid Cost: 0.544, Valid Accuracy: 0.809, Train Cost: 0.541, Train Accuracy: 0.814\n",
            "EPOCH: 94, EPS: 0.062500, Valid Cost: 0.543, Valid Accuracy: 0.809, Train Cost: 0.540, Train Accuracy: 0.815\n",
            "EPOCH: 95, EPS: 0.062500, Valid Cost: 0.542, Valid Accuracy: 0.810, Train Cost: 0.539, Train Accuracy: 0.815\n",
            "EPOCH: 96, EPS: 0.062500, Valid Cost: 0.541, Valid Accuracy: 0.810, Train Cost: 0.538, Train Accuracy: 0.815\n",
            "EPOCH: 97, EPS: 0.062500, Valid Cost: 0.541, Valid Accuracy: 0.810, Train Cost: 0.537, Train Accuracy: 0.815\n",
            "EPOCH: 98, EPS: 0.062500, Valid Cost: 0.540, Valid Accuracy: 0.810, Train Cost: 0.536, Train Accuracy: 0.815\n",
            "EPOCH: 99, EPS: 0.062500, Valid Cost: 0.539, Valid Accuracy: 0.812, Train Cost: 0.535, Train Accuracy: 0.816\n",
            "EPOCH: 100, EPS: 0.062500, Valid Cost: 0.538, Valid Accuracy: 0.811, Train Cost: 0.535, Train Accuracy: 0.816\n"
          ],
          "name": "stdout"
        }
      ]
    },
    {
      "metadata": {
        "id": "RIog4So97iqV",
        "colab_type": "code",
        "colab": {}
      },
      "cell_type": "code",
      "source": [
        "#np.save(os.path.join(gd_output_path, \"MNIST_SLP_b.npy\"), b)"
      ],
      "execution_count": 0,
      "outputs": []
    },
    {
      "metadata": {
        "id": "7RYZc9JpIDbW",
        "colab_type": "text"
      },
      "cell_type": "markdown",
      "source": [
        "# 誤分類の分析\n"
      ]
    },
    {
      "metadata": {
        "id": "0aK78qwDLuOY",
        "colab_type": "text"
      },
      "cell_type": "markdown",
      "source": [
        "## Confusion Matrix\n",
        "- 以下のConfusion Matrixは既に、サンプル数で正規化済み。\n",
        "- ２を４に誤分類。\n",
        "- ６を４に誤分類。"
      ]
    },
    {
      "metadata": {
        "id": "oLfih58yyOXT",
        "colab_type": "code",
        "outputId": "73988eea-3e9e-4529-d62b-9883e5f4c61c",
        "colab": {
          "base_uri": "https://localhost:8080/",
          "height": 275
        }
      },
      "cell_type": "code",
      "source": [
        "cost_pred, y_pred_score = valid(x_valid, y_valid)\n",
        "y_pred = pred(x_valid)\n",
        "y_valid_max = np.argmax(y_valid, axis=1)\n",
        "tool.show_confmx(y_pred, y_valid_max)"
      ],
      "execution_count": 20,
      "outputs": [
        {
          "output_type": "display_data",
          "data": {
            "image/png": "[encoded data removed]",
            "text/plain": [
              "<Figure size 288x288 with 1 Axes>"
            ]
          },
          "metadata": {
            "tags": []
          }
        }
      ]
    },
    {
      "metadata": {
        "id": "URlpXFw2J-8c",
        "colab_type": "text"
      },
      "cell_type": "markdown",
      "source": [
        "Q1. Skewed Datasetかどうか?クラス６の画像数が少なければ、増やせばよい。\n",
        "\n",
        "A1. 各クラスの画像数を確認。特に歪んでいない。"
      ]
    },
    {
      "metadata": {
        "id": "u9jSWGjgIkNP",
        "colab_type": "code",
        "outputId": "968070ca-b9ee-4aa2-8512-7edfbd313ca1",
        "colab": {
          "base_uri": "https://localhost:8080/",
          "height": 193
        }
      },
      "cell_type": "code",
      "source": [
        "for i in range(10):\n",
        "    n = tool.count_fashion(y_train, i)\n",
        "    print(\"number of pictures in \" + str(i) + \"-th class are \" + str(n))"
      ],
      "execution_count": 9,
      "outputs": [
        {
          "output_type": "stream",
          "text": [
            "number of pictures in 0-th class are 5413\n",
            "number of pictures in 1-th class are 5450\n",
            "number of pictures in 2-th class are 5410\n",
            "number of pictures in 3-th class are 5429\n",
            "number of pictures in 4-th class are 5394\n",
            "number of pictures in 5-th class are 5395\n",
            "number of pictures in 6-th class are 5389\n",
            "number of pictures in 7-th class are 5338\n",
            "number of pictures in 8-th class are 5357\n",
            "number of pictures in 9-th class are 5425\n"
          ],
          "name": "stdout"
        }
      ]
    },
    {
      "metadata": {
        "id": "4lYP_mqEIRKb",
        "colab_type": "text"
      },
      "cell_type": "markdown",
      "source": [
        "## データの目視確認\n",
        "クラス２のサンプル"
      ]
    },
    {
      "metadata": {
        "id": "EzFUOPHoyOXb",
        "colab_type": "code",
        "outputId": "f6ff23d7-e078-48da-b910-ee5590b824be",
        "colab": {
          "base_uri": "https://localhost:8080/",
          "height": 461
        }
      },
      "cell_type": "code",
      "source": [
        "tool.plot_fashion(x_train, y_train, 2, 5, 1)"
      ],
      "execution_count": 14,
      "outputs": [
        {
          "output_type": "display_data",
          "data": {
            "image/png": "[encoded data removed]",
            "text/plain": [
              "<Figure size 72x72 with 1 Axes>"
            ]
          },
          "metadata": {
            "tags": []
          }
        },
        {
          "output_type": "display_data",
          "data": {
            "image/png": "[encoded data removed]",
            "text/plain": [
              "<Figure size 72x72 with 1 Axes>"
            ]
          },
          "metadata": {
            "tags": []
          }
        },
        {
          "output_type": "display_data",
          "data": {
            "image/png": "[encoded data removed]",
            "text/plain": [
              "<Figure size 72x72 with 1 Axes>"
            ]
          },
          "metadata": {
            "tags": []
          }
        },
        {
          "output_type": "display_data",
          "data": {
            "image/png": "[encoded data removed]",
            "text/plain": [
              "<Figure size 72x72 with 1 Axes>"
            ]
          },
          "metadata": {
            "tags": []
          }
        },
        {
          "output_type": "display_data",
          "data": {
            "image/png": "[encoded data removed]",
            "text/plain": [
              "<Figure size 72x72 with 1 Axes>"
            ]
          },
          "metadata": {
            "tags": []
          }
        }
      ]
    },
    {
      "metadata": {
        "id": "t9_Eig6bLnaY",
        "colab_type": "text"
      },
      "cell_type": "markdown",
      "source": [
        "クラス６のサンプル"
      ]
    },
    {
      "metadata": {
        "id": "JD1O0JWOLmn7",
        "colab_type": "code",
        "outputId": "17a6ec38-e654-46ea-af6e-9aa29144e935",
        "colab": {
          "base_uri": "https://localhost:8080/",
          "height": 461
        }
      },
      "cell_type": "code",
      "source": [
        "tool.plot_fashion(x_train, y_train, 6, 5, 1)"
      ],
      "execution_count": 15,
      "outputs": [
        {
          "output_type": "display_data",
          "data": {
            "image/png": "[encoded data removed]",
            "text/plain": [
              "<Figure size 72x72 with 1 Axes>"
            ]
          },
          "metadata": {
            "tags": []
          }
        },
        {
          "output_type": "display_data",
          "data": {
            "image/png": "[encoded data removed]",
            "text/plain": [
              "<Figure size 72x72 with 1 Axes>"
            ]
          },
          "metadata": {
            "tags": []
          }
        },
        {
          "output_type": "display_data",
          "data": {
            "image/png": "[encoded data removed]",
            "text/plain": [
              "<Figure size 72x72 with 1 Axes>"
            ]
          },
          "metadata": {
            "tags": []
          }
        },
        {
          "output_type": "display_data",
          "data": {
            "image/png": "[encoded data removed]",
            "text/plain": [
              "<Figure size 72x72 with 1 Axes>"
            ]
          },
          "metadata": {
            "tags": []
          }
        },
        {
          "output_type": "display_data",
          "data": {
            "image/png": "[encoded data removed]",
            "text/plain": [
              "<Figure size 72x72 with 1 Axes>"
            ]
          },
          "metadata": {
            "tags": []
          }
        }
      ]
    },
    {
      "metadata": {
        "id": "enJFQmEPH7_L",
        "colab_type": "text"
      },
      "cell_type": "markdown",
      "source": [
        "## 実際クラスが６で、誤分類したサンプルを目視"
      ]
    },
    {
      "metadata": {
        "id": "mjLtgtxoLXcg",
        "colab_type": "code",
        "outputId": "276f5349-d292-4183-ae25-72e83a88dbe6",
        "colab": {
          "base_uri": "https://localhost:8080/",
          "height": 52
        }
      },
      "cell_type": "code",
      "source": [
        "x_valid_mistake = x_valid[y_pred != y_valid_max]\n",
        "y_valid_mistake = y_valid[y_pred != y_valid_max]\n",
        "y_pred_score_mistake = y_pred_score[y_pred != y_valid_max]\n",
        "print(x_valid_mistake.shape)\n",
        "print(y_valid_mistake.shape)"
      ],
      "execution_count": 16,
      "outputs": [
        {
          "output_type": "stream",
          "text": [
            "(1572, 784)\n",
            "(1572, 10)\n"
          ],
          "name": "stdout"
        }
      ]
    },
    {
      "metadata": {
        "id": "vLzBDBTXOsXV",
        "colab_type": "text"
      },
      "cell_type": "markdown",
      "source": [
        "実際はクラス６の画像"
      ]
    },
    {
      "metadata": {
        "id": "P04h4TC3Oqma",
        "colab_type": "code",
        "outputId": "f6c15fd0-4a37-498a-dc2e-c44ce0b6bdc7",
        "colab": {
          "base_uri": "https://localhost:8080/",
          "height": 461
        }
      },
      "cell_type": "code",
      "source": [
        "tool.plot_fashion(x_valid_mistake, y_valid_mistake, 6, 5, 1)"
      ],
      "execution_count": 17,
      "outputs": [
        {
          "output_type": "display_data",
          "data": {
            "image/png": "[encoded data removed]",
            "text/plain": [
              "<Figure size 72x72 with 1 Axes>"
            ]
          },
          "metadata": {
            "tags": []
          }
        },
        {
          "output_type": "display_data",
          "data": {
            "image/png": "[encoded data removed]",
            "text/plain": [
              "<Figure size 72x72 with 1 Axes>"
            ]
          },
          "metadata": {
            "tags": []
          }
        },
        {
          "output_type": "display_data",
          "data": {
            "image/png": "[encoded data removed]",
            "text/plain": [
              "<Figure size 72x72 with 1 Axes>"
            ]
          },
          "metadata": {
            "tags": []
          }
        },
        {
          "output_type": "display_data",
          "data": {
            "image/png": "[encoded data removed]",
            "text/plain": [
              "<Figure size 72x72 with 1 Axes>"
            ]
          },
          "metadata": {
            "tags": []
          }
        },
        {
          "output_type": "display_data",
          "data": {
            "image/png": "[encoded data removed]",
            "text/plain": [
              "<Figure size 72x72 with 1 Axes>"
            ]
          },
          "metadata": {
            "tags": []
          }
        }
      ]
    },
    {
      "metadata": {
        "id": "16rurjVcZs_S",
        "colab_type": "text"
      },
      "cell_type": "markdown",
      "source": [
        "スコアを出力、どれも４に誤分類している。４と６で、結構競っているのが分かる。"
      ]
    },
    {
      "metadata": {
        "id": "NNYVjZ5JVXjW",
        "colab_type": "code",
        "outputId": "35789258-b072-49b0-9052-974f2a5690e3",
        "colab": {
          "base_uri": "https://localhost:8080/",
          "height": 193
        }
      },
      "cell_type": "code",
      "source": [
        "tool.get_score(y_valid_mistake, y_pred_score_mistake, 6, 5)"
      ],
      "execution_count": 18,
      "outputs": [
        {
          "output_type": "stream",
          "text": [
            "answer:4, scores: [5.6303348e-02 3.4177605e-02 1.3963315e-01 3.2977238e-02 1.0000000e+00\n",
            " 2.3192683e-02 8.0687547e-01 1.1320304e-04 1.6066839e-01 1.6666364e-02]\n",
            "answer:4, scores: [4.7773995e-02 3.7894983e-02 2.1606641e-01 5.1573887e-02 1.0000000e+00\n",
            " 4.0145371e-02 8.7989175e-01 5.5868976e-04 1.5999934e-01 2.8373919e-02]\n",
            "answer:4, scores: [2.7801575e-02 2.2123013e-02 9.1410622e-02 3.1366602e-02 1.0000000e+00\n",
            " 5.7614665e-03 8.2503664e-01 2.8008417e-05 1.4169404e-01 6.0834177e-03]\n",
            "answer:4, scores: [0.26190737 0.2029927  0.24961036 0.19004272 1.         0.13235526\n",
            " 0.5698609  0.0113498  0.532391   0.19046396]\n",
            "answer:4, scores: [0.3861218  0.28400213 0.21559298 0.43259636 1.         0.0409375\n",
            " 0.85990435 0.00275009 0.3833798  0.08769212]\n"
          ],
          "name": "stdout"
        }
      ]
    },
    {
      "metadata": {
        "id": "gcvQtu-zZ63j",
        "colab_type": "text"
      },
      "cell_type": "markdown",
      "source": [
        "## モデル的にもっとも各クラスっぽい画像を出力する\n",
        "クラス１(ズボン), クラス5(サンダル)っぽい画像を出力。\n",
        "- サンダルは確かに靴の形に見える。\n",
        "- ズボンもはっきり見える。"
      ]
    },
    {
      "metadata": {
        "id": "AzmoZUyHZ9fn",
        "colab_type": "code",
        "outputId": "ecc1da1e-50fc-4d36-cd2c-44dd7dd99717",
        "colab": {
          "base_uri": "https://localhost:8080/",
          "height": 303
        }
      },
      "cell_type": "code",
      "source": [
        "x_eigen1 = W[:,1] # ズボン\n",
        "x_eigen5 = W[:,5] # サンダル\n",
        "tool.show_image(x_eigen1,2)\n",
        "tool.show_image(x_eigen5,2)"
      ],
      "execution_count": 21,
      "outputs": [
        {
          "output_type": "display_data",
          "data": {
            "image/png": "[encoded data removed]",
            "text/plain": [
              "<Figure size 144x144 with 1 Axes>"
            ]
          },
          "metadata": {
            "tags": []
          }
        },
        {
          "output_type": "display_data",
          "data": {
            "image/png": "[encoded data removed]",
            "text/plain": [
              "<Figure size 144x144 with 1 Axes>"
            ]
          },
          "metadata": {
            "tags": []
          }
        }
      ]
    },
    {
      "metadata": {
        "id": "VK0Dna5rdQBL",
        "colab_type": "text"
      },
      "cell_type": "markdown",
      "source": [
        "次に、クラス２（プルオーバー）、クラス４(コート), クラス６(シャツ)っぽい画像\n",
        "- コートは少し外形が見える。シャツと、特にプルオーバーは、何がなんだか良くわからない。\n",
        "- クラス４or６の分類は、以下２つのベクトルの（ユークリッド距離の意味で）どちらに近いか？で決定する。\n",
        "- 例えば、クラス４ベクトルとクラス６ベクトルの、線形按分したベクトルを考えると、クラス４から、クラス６（またはその逆）にスムーズに移動することができる。"
      ]
    },
    {
      "metadata": {
        "id": "sSG_Lf1rdaC4",
        "colab_type": "code",
        "outputId": "cb3fcd1d-7e9f-44c5-f15c-7faec5fa6605",
        "colab": {
          "base_uri": "https://localhost:8080/",
          "height": 446
        }
      },
      "cell_type": "code",
      "source": [
        "x_eigen2 = W[:,2] # プルオーバー\n",
        "x_eigen4 = W[:,4] # コート\n",
        "x_eigen6 = W[:,6] # シャツ\n",
        "tool.show_image(x_eigen2,2)\n",
        "tool.show_image(x_eigen4,2)\n",
        "tool.show_image(x_eigen6,2)"
      ],
      "execution_count": 23,
      "outputs": [
        {
          "output_type": "display_data",
          "data": {
            "image/png": "[encoded data removed]",
            "text/plain": [
              "<Figure size 144x144 with 1 Axes>"
            ]
          },
          "metadata": {
            "tags": []
          }
        },
        {
          "output_type": "display_data",
          "data": {
            "image/png": "[encoded data removed]",
            "text/plain": [
              "<Figure size 144x144 with 1 Axes>"
            ]
          },
          "metadata": {
            "tags": []
          }
        },
        {
          "output_type": "display_data",
          "data": {
            "image/png": "[encoded data removed]",
            "text/plain": [
              "<Figure size 144x144 with 1 Axes>"
            ]
          },
          "metadata": {
            "tags": []
          }
        }
      ]
    }
  ]
}